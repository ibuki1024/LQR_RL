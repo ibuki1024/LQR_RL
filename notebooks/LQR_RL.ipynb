{
 "cells": [
  {
   "cell_type": "code",
   "execution_count": 1,
   "metadata": {},
   "outputs": [],
   "source": [
    "import sys\n",
    "sys.path.append('../modules')\n",
    "\n",
    "import numpy as np\n",
    "from scipy import linalg\n",
    "import matplotlib.pyplot as plt\n",
    "import control_theory as ct\n",
    "from lqr_rl import *\n",
    "%matplotlib inline"
   ]
  },
  {
   "cell_type": "code",
   "execution_count": 2,
   "metadata": {},
   "outputs": [
    {
     "name": "stdout",
     "output_type": "stream",
     "text": [
      "3\n"
     ]
    }
   ],
   "source": [
    "gamma = 1\n",
    "A = np.array([[0.8091,0.8996,0.8629],[0.3025,0.2493,0.9991],[0.1081,0.5432,0.4614]])\n",
    "B = np.array([[1,0],[0,1],[0,1]])\n",
    "ctrb = ct.ctrb(A,B)\n",
    "print(ct.rank(ctrb))"
   ]
  },
  {
   "cell_type": "code",
   "execution_count": 29,
   "metadata": {},
   "outputs": [],
   "source": [
    "n,p = B.shape\n",
    "n_th = int((n+p)*(n+p+1)/2)\n",
    "\n",
    "E = np.eye(n)\n",
    "F = np.eye(p)\n",
    "\n",
    "iter_RLS = 1000\n",
    "iter_Gain = 50\n",
    "s_n = 10\n",
    "\n",
    "U_opt = - lqr(A,B,E,F)[1]\n",
    "\n",
    "x_hist = []\n",
    "U_hist = []\n",
    "Uerr_hist = []"
   ]
  },
  {
   "cell_type": "code",
   "execution_count": 30,
   "metadata": {},
   "outputs": [
    {
     "name": "stdout",
     "output_type": "stream",
     "text": [
      "initial gain\n",
      "[[-0.65126075  0.15912718 -1.0751276 ]\n",
      " [ 0.08056936 -0.88674707 -0.68550919]]\n",
      "final gain\n",
      "[[-0.46004028 -0.54472213 -0.52067491]\n",
      " [-0.22746831 -0.40178346 -0.65856366]]\n"
     ]
    }
   ],
   "source": [
    "while True:\n",
    "    theta = np.random.randn(n_th,)\n",
    "    H = theta_to_H(theta,n+p)\n",
    "    U = - np.dot(np.linalg.inv(H[n:n+p,n:n+p]), H[n:n+p,0:n])\n",
    "    if max(np.abs(np.linalg.eig(A+np.dot(B,U))[0]))<0.99:\n",
    "        break\n",
    "\n",
    "print('initial gain')\n",
    "print(U)\n",
    "\n",
    "x = np.random.rand(n,)/10;\n",
    "P = np.eye(n_th)\n",
    "\n",
    "for k in range(1,iter_Gain+1):\n",
    "    Uerr_hist.append(np.linalg.norm(U-U_opt, ord='fro'))\n",
    "    for i in range(1,iter_RLS+1):\n",
    "        u = np.dot(U,x) + np.random.randn(p,)*s_n\n",
    "        c = quad(x,E) + quad(u,F)\n",
    "        bar = H_to_theta(np.outer(np.hstack((x,u)),np.hstack((x,u))))\n",
    "        x = np.dot(A,x) + np.dot(B,u)\n",
    "        u = np.dot(U,x)\n",
    "        barplus = H_to_theta(np.outer(np.hstack((x,u)),np.hstack((x,u))))\n",
    "        \n",
    "        phi = bar - np.dot(gamma, barplus)\n",
    "        \n",
    "        e = c - np.dot(phi,theta)\n",
    "        denom = 1 + quad(phi,P)\n",
    "        theta += np.dot(np.dot(P,phi),e)/denom\n",
    "        P -= np.outer(np.dot(P,phi),np.dot(phi,P))/denom\n",
    "\n",
    "    H = theta_to_H(theta,n+p)\n",
    "    U = - np.dot(np.linalg.inv(H[n:n+p,n:n+p]), H[n:n+p,0:n])\n",
    "    if max(np.abs(np.linalg.eig(A+np.dot(B,U))[0]))>1:\n",
    "        print(k)\n",
    "        break\n",
    "print('final gain')\n",
    "print(U)"
   ]
  },
  {
   "cell_type": "code",
   "execution_count": 31,
   "metadata": {
    "scrolled": false
   },
   "outputs": [
    {
     "name": "stdout",
     "output_type": "stream",
     "text": [
      "Optimal Gain\n",
      "[[-0.46167044 -0.53511038 -0.5279651 ]\n",
      " [-0.22785121 -0.40611603 -0.65336881]]\n"
     ]
    },
    {
     "data": {
      "image/png": "[encoded data removed]",
      "text/plain": [
       "<Figure size 432x288 with 1 Axes>"
      ]
     },
     "metadata": {
      "needs_background": "light"
     },
     "output_type": "display_data"
    }
   ],
   "source": [
    "print('Optimal Gain')\n",
    "print(U_opt)\n",
    "plt.plot(Uerr_hist)\n",
    "plt.show()"
   ]
  },
  {
   "cell_type": "code",
   "execution_count": null,
   "metadata": {
    "code_folding": []
   },
   "outputs": [],
   "source": [
    "def quad(X,A):\n",
    "    \"\"\" Returns X.T*A*X\n",
    "    \"\"\"\n",
    "    assert A.shape[1] == X.shape[0], 'Dimension Error'\n",
    "    tmp = np.dot(np.dot(X.T,A),X)\n",
    "    return tmp"
   ]
  },
  {
   "cell_type": "code",
   "execution_count": 3,
   "metadata": {},
   "outputs": [
    {
     "ename": "KeyboardInterrupt",
     "evalue": "",
     "output_type": "error",
     "traceback": [
      "\u001b[0;31m---------------------------------------------------------------------------\u001b[0m",
      "\u001b[0;31mKeyboardInterrupt\u001b[0m                         Traceback (most recent call last)",
      "\u001b[0;32m<ipython-input-3-748b33757953>\u001b[0m in \u001b[0;36m<module>\u001b[0;34m\u001b[0m\n\u001b[1;32m      8\u001b[0m \u001b[0minitial_gain\u001b[0m \u001b[0;34m=\u001b[0m \u001b[0minitialGain\u001b[0m\u001b[0;34m(\u001b[0m\u001b[0mA\u001b[0m\u001b[0;34m,\u001b[0m\u001b[0mB\u001b[0m\u001b[0;34m,\u001b[0m\u001b[0mE\u001b[0m\u001b[0;34m,\u001b[0m\u001b[0mF\u001b[0m\u001b[0;34m)\u001b[0m\u001b[0;34m[\u001b[0m\u001b[0;36m0\u001b[0m\u001b[0;34m]\u001b[0m\u001b[0;34m\u001b[0m\u001b[0;34m\u001b[0m\u001b[0m\n\u001b[1;32m      9\u001b[0m \u001b[0mdpagent\u001b[0m \u001b[0;34m=\u001b[0m \u001b[0mDpAgent\u001b[0m\u001b[0;34m(\u001b[0m\u001b[0mA\u001b[0m\u001b[0;34m,\u001b[0m\u001b[0mB\u001b[0m\u001b[0;34m,\u001b[0m\u001b[0mE\u001b[0m\u001b[0;34m,\u001b[0m\u001b[0mF\u001b[0m\u001b[0;34m,\u001b[0m\u001b[0minitial_gain\u001b[0m\u001b[0;34m)\u001b[0m\u001b[0;34m\u001b[0m\u001b[0;34m\u001b[0m\u001b[0m\n\u001b[0;32m---> 10\u001b[0;31m \u001b[0mdpagent\u001b[0m\u001b[0;34m.\u001b[0m\u001b[0mfit\u001b[0m\u001b[0;34m(\u001b[0m\u001b[0miter_Gain\u001b[0m\u001b[0;34m=\u001b[0m\u001b[0;36m50\u001b[0m\u001b[0;34m)\u001b[0m\u001b[0;34m\u001b[0m\u001b[0;34m\u001b[0m\u001b[0m\n\u001b[0m\u001b[1;32m     11\u001b[0m \u001b[0mprint\u001b[0m\u001b[0;34m(\u001b[0m\u001b[0;34m'initial gain'\u001b[0m\u001b[0;34m)\u001b[0m\u001b[0;34m\u001b[0m\u001b[0;34m\u001b[0m\u001b[0m\n\u001b[1;32m     12\u001b[0m \u001b[0mprint\u001b[0m\u001b[0;34m(\u001b[0m\u001b[0minitial_gain\u001b[0m\u001b[0;34m)\u001b[0m\u001b[0;34m\u001b[0m\u001b[0;34m\u001b[0m\u001b[0m\n",
      "\u001b[0;32m~/Documents/studyM2/projects/LQR_RL/modules/lqr_rl.py\u001b[0m in \u001b[0;36mfit\u001b[0;34m(self, iter_Gain)\u001b[0m\n\u001b[1;32m     92\u001b[0m             \u001b[0mK_U\u001b[0m \u001b[0;34m=\u001b[0m \u001b[0mnp\u001b[0m\u001b[0;34m.\u001b[0m\u001b[0mzeros\u001b[0m\u001b[0;34m(\u001b[0m\u001b[0mA\u001b[0m\u001b[0;34m.\u001b[0m\u001b[0mshape\u001b[0m\u001b[0;34m)\u001b[0m\u001b[0;34m\u001b[0m\u001b[0;34m\u001b[0m\u001b[0m\n\u001b[1;32m     93\u001b[0m             \u001b[0;32mfor\u001b[0m \u001b[0mi\u001b[0m \u001b[0;32min\u001b[0m \u001b[0mrange\u001b[0m\u001b[0;34m(\u001b[0m\u001b[0;36m5000\u001b[0m\u001b[0;34m)\u001b[0m\u001b[0;34m:\u001b[0m\u001b[0;34m\u001b[0m\u001b[0;34m\u001b[0m\u001b[0m\n\u001b[0;32m---> 94\u001b[0;31m                 \u001b[0mK_U\u001b[0m \u001b[0;34m=\u001b[0m \u001b[0mK_U\u001b[0m \u001b[0;34m+\u001b[0m \u001b[0mquad\u001b[0m\u001b[0;34m(\u001b[0m\u001b[0msys_n\u001b[0m\u001b[0;34m,\u001b[0m \u001b[0;34m(\u001b[0m\u001b[0mE\u001b[0m\u001b[0;34m+\u001b[0m\u001b[0mquad\u001b[0m\u001b[0;34m(\u001b[0m\u001b[0mU\u001b[0m\u001b[0;34m,\u001b[0m\u001b[0mF\u001b[0m\u001b[0;34m)\u001b[0m\u001b[0;34m)\u001b[0m\u001b[0;34m)\u001b[0m\u001b[0;34m\u001b[0m\u001b[0;34m\u001b[0m\u001b[0m\n\u001b[0m\u001b[1;32m     95\u001b[0m                 \u001b[0msys_n\u001b[0m \u001b[0;34m=\u001b[0m \u001b[0mnp\u001b[0m\u001b[0;34m.\u001b[0m\u001b[0mdot\u001b[0m\u001b[0;34m(\u001b[0m\u001b[0msys_n\u001b[0m\u001b[0;34m,\u001b[0m\u001b[0;34m(\u001b[0m\u001b[0mA\u001b[0m\u001b[0;34m+\u001b[0m\u001b[0mnp\u001b[0m\u001b[0;34m.\u001b[0m\u001b[0mdot\u001b[0m\u001b[0;34m(\u001b[0m\u001b[0mB\u001b[0m\u001b[0;34m,\u001b[0m\u001b[0mU\u001b[0m\u001b[0;34m)\u001b[0m\u001b[0;34m)\u001b[0m\u001b[0;34m)\u001b[0m\u001b[0;34m\u001b[0m\u001b[0;34m\u001b[0m\u001b[0m\n\u001b[1;32m     96\u001b[0m \u001b[0;34m\u001b[0m\u001b[0m\n",
      "\u001b[0;32m~/Documents/studyM2/projects/LQR_RL/modules/lqr_rl.py\u001b[0m in \u001b[0;36mquad\u001b[0;34m(X, A)\u001b[0m\n\u001b[1;32m    146\u001b[0m     \"\"\"\n\u001b[1;32m    147\u001b[0m     \u001b[0;32massert\u001b[0m \u001b[0mA\u001b[0m\u001b[0;34m.\u001b[0m\u001b[0mshape\u001b[0m\u001b[0;34m[\u001b[0m\u001b[0;36m1\u001b[0m\u001b[0;34m]\u001b[0m \u001b[0;34m==\u001b[0m \u001b[0mX\u001b[0m\u001b[0;34m.\u001b[0m\u001b[0mshape\u001b[0m\u001b[0;34m[\u001b[0m\u001b[0;36m0\u001b[0m\u001b[0;34m]\u001b[0m\u001b[0;34m,\u001b[0m \u001b[0;34m'Dimension Error'\u001b[0m\u001b[0;34m\u001b[0m\u001b[0;34m\u001b[0m\u001b[0m\n\u001b[0;32m--> 148\u001b[0;31m     \u001b[0mtmp\u001b[0m \u001b[0;34m=\u001b[0m \u001b[0mnp\u001b[0m\u001b[0;34m.\u001b[0m\u001b[0mdot\u001b[0m\u001b[0;34m(\u001b[0m\u001b[0mnp\u001b[0m\u001b[0;34m.\u001b[0m\u001b[0mdot\u001b[0m\u001b[0;34m(\u001b[0m\u001b[0mX\u001b[0m\u001b[0;34m.\u001b[0m\u001b[0mT\u001b[0m\u001b[0;34m,\u001b[0m\u001b[0mA\u001b[0m\u001b[0;34m)\u001b[0m\u001b[0;34m,\u001b[0m\u001b[0mX\u001b[0m\u001b[0;34m)\u001b[0m\u001b[0;34m\u001b[0m\u001b[0;34m\u001b[0m\u001b[0m\n\u001b[0m\u001b[1;32m    149\u001b[0m     \u001b[0;32mreturn\u001b[0m \u001b[0mtmp\u001b[0m\u001b[0;34m\u001b[0m\u001b[0;34m\u001b[0m\u001b[0m\n\u001b[1;32m    150\u001b[0m \u001b[0;34m\u001b[0m\u001b[0m\n",
      "\u001b[0;31mKeyboardInterrupt\u001b[0m: "
     ]
    }
   ],
   "source": [
    "#Dynamic Programming\n",
    "n,p = B.shape\n",
    "n_th = int((n+p)*(n+p+1)/2)\n",
    "E = np.eye(n)\n",
    "F = np.eye(p)\n",
    "U_opt = - lqr(A,B,E,F)[1]\n",
    "\n",
    "initial_gain = initialGain(A,B,E,F)[0]\n",
    "dpagent = DpAgent(A,B,E,F,initial_gain)\n",
    "dpagent.fit(iter_Gain=50)\n",
    "print('initial gain')\n",
    "print(initial_gain)\n",
    "print('final gain')\n",
    "print(dpagent.final_gain)\n",
    "print('optimal gain')\n",
    "print(U_opt)"
   ]
  },
  {
   "cell_type": "code",
   "execution_count": 4,
   "metadata": {},
   "outputs": [
    {
     "ename": "KeyboardInterrupt",
     "evalue": "",
     "output_type": "error",
     "traceback": [
      "\u001b[0;31m---------------------------------------------------------------------------\u001b[0m",
      "\u001b[0;31mKeyboardInterrupt\u001b[0m                         Traceback (most recent call last)",
      "\u001b[0;32m<ipython-input-4-9a611f157b3d>\u001b[0m in \u001b[0;36m<module>\u001b[0;34m\u001b[0m\n\u001b[1;32m      8\u001b[0m \u001b[0minitial_gain\u001b[0m\u001b[0;34m,\u001b[0m \u001b[0mtheta\u001b[0m \u001b[0;34m=\u001b[0m \u001b[0minitialGain\u001b[0m\u001b[0;34m(\u001b[0m\u001b[0mA\u001b[0m\u001b[0;34m,\u001b[0m\u001b[0mB\u001b[0m\u001b[0;34m,\u001b[0m\u001b[0mE\u001b[0m\u001b[0;34m,\u001b[0m\u001b[0mF\u001b[0m\u001b[0;34m)\u001b[0m\u001b[0;34m\u001b[0m\u001b[0;34m\u001b[0m\u001b[0m\n\u001b[1;32m      9\u001b[0m \u001b[0mrlagent\u001b[0m \u001b[0;34m=\u001b[0m \u001b[0mRlAgent\u001b[0m\u001b[0;34m(\u001b[0m\u001b[0mA\u001b[0m\u001b[0;34m,\u001b[0m\u001b[0mB\u001b[0m\u001b[0;34m,\u001b[0m\u001b[0mE\u001b[0m\u001b[0;34m,\u001b[0m\u001b[0mF\u001b[0m\u001b[0;34m,\u001b[0m\u001b[0minitial_gain\u001b[0m\u001b[0;34m=\u001b[0m\u001b[0minitial_gain\u001b[0m\u001b[0;34m,\u001b[0m\u001b[0mtheta\u001b[0m\u001b[0;34m=\u001b[0m\u001b[0mtheta\u001b[0m\u001b[0;34m)\u001b[0m\u001b[0;34m\u001b[0m\u001b[0;34m\u001b[0m\u001b[0m\n\u001b[0;32m---> 10\u001b[0;31m \u001b[0mrlagent\u001b[0m\u001b[0;34m.\u001b[0m\u001b[0mfit\u001b[0m\u001b[0;34m(\u001b[0m\u001b[0;34m)\u001b[0m\u001b[0;34m\u001b[0m\u001b[0;34m\u001b[0m\u001b[0m\n\u001b[0m\u001b[1;32m     11\u001b[0m \u001b[0mprint\u001b[0m\u001b[0;34m(\u001b[0m\u001b[0;34m'initial gain'\u001b[0m\u001b[0;34m)\u001b[0m\u001b[0;34m\u001b[0m\u001b[0;34m\u001b[0m\u001b[0m\n\u001b[1;32m     12\u001b[0m \u001b[0mprint\u001b[0m\u001b[0;34m(\u001b[0m\u001b[0minitial_gain\u001b[0m\u001b[0;34m)\u001b[0m\u001b[0;34m\u001b[0m\u001b[0;34m\u001b[0m\u001b[0m\n",
      "\u001b[0;32m~/Documents/studyM2/projects/LQR_RL/modules/lqr_rl.py\u001b[0m in \u001b[0;36mfit\u001b[0;34m(self, iter_RLS, iter_Gain, s_n)\u001b[0m\n\u001b[1;32m     50\u001b[0m                 \u001b[0me\u001b[0m \u001b[0;34m=\u001b[0m \u001b[0mc\u001b[0m \u001b[0;34m-\u001b[0m \u001b[0mnp\u001b[0m\u001b[0;34m.\u001b[0m\u001b[0mdot\u001b[0m\u001b[0;34m(\u001b[0m\u001b[0mphi\u001b[0m\u001b[0;34m,\u001b[0m\u001b[0mtheta\u001b[0m\u001b[0;34m)\u001b[0m\u001b[0;34m\u001b[0m\u001b[0;34m\u001b[0m\u001b[0m\n\u001b[1;32m     51\u001b[0m                 \u001b[0mdenom\u001b[0m \u001b[0;34m=\u001b[0m \u001b[0;36m1\u001b[0m \u001b[0;34m+\u001b[0m \u001b[0mquad\u001b[0m\u001b[0;34m(\u001b[0m\u001b[0mphi\u001b[0m\u001b[0;34m,\u001b[0m\u001b[0mP\u001b[0m\u001b[0;34m)\u001b[0m\u001b[0;34m\u001b[0m\u001b[0;34m\u001b[0m\u001b[0m\n\u001b[0;32m---> 52\u001b[0;31m                 \u001b[0mtheta\u001b[0m \u001b[0;34m+=\u001b[0m \u001b[0mnp\u001b[0m\u001b[0;34m.\u001b[0m\u001b[0mdot\u001b[0m\u001b[0;34m(\u001b[0m\u001b[0mnp\u001b[0m\u001b[0;34m.\u001b[0m\u001b[0mdot\u001b[0m\u001b[0;34m(\u001b[0m\u001b[0mP\u001b[0m\u001b[0;34m,\u001b[0m\u001b[0mphi\u001b[0m\u001b[0;34m)\u001b[0m\u001b[0;34m,\u001b[0m\u001b[0me\u001b[0m\u001b[0;34m)\u001b[0m\u001b[0;34m/\u001b[0m\u001b[0mdenom\u001b[0m\u001b[0;34m\u001b[0m\u001b[0;34m\u001b[0m\u001b[0m\n\u001b[0m\u001b[1;32m     53\u001b[0m                 \u001b[0mP\u001b[0m \u001b[0;34m-=\u001b[0m \u001b[0mnp\u001b[0m\u001b[0;34m.\u001b[0m\u001b[0mouter\u001b[0m\u001b[0;34m(\u001b[0m\u001b[0mnp\u001b[0m\u001b[0;34m.\u001b[0m\u001b[0mdot\u001b[0m\u001b[0;34m(\u001b[0m\u001b[0mP\u001b[0m\u001b[0;34m,\u001b[0m\u001b[0mphi\u001b[0m\u001b[0;34m)\u001b[0m\u001b[0;34m,\u001b[0m\u001b[0mnp\u001b[0m\u001b[0;34m.\u001b[0m\u001b[0mdot\u001b[0m\u001b[0;34m(\u001b[0m\u001b[0mphi\u001b[0m\u001b[0;34m,\u001b[0m\u001b[0mP\u001b[0m\u001b[0;34m)\u001b[0m\u001b[0;34m)\u001b[0m\u001b[0;34m/\u001b[0m\u001b[0mdenom\u001b[0m\u001b[0;34m\u001b[0m\u001b[0;34m\u001b[0m\u001b[0m\n\u001b[1;32m     54\u001b[0m \u001b[0;34m\u001b[0m\u001b[0m\n",
      "\u001b[0;31mKeyboardInterrupt\u001b[0m: "
     ]
    }
   ],
   "source": [
    "#RL usin module\n",
    "n,p = B.shape\n",
    "n_th = int((n+p)*(n+p+1)/2)\n",
    "E = np.eye(n)\n",
    "F = np.eye(p)\n",
    "U_opt = - lqr(A,B,E,F)[1]\n",
    "\n",
    "initial_gain, theta = initialGain(A,B,E,F)\n",
    "rlagent = RlAgent(A,B,E,F,initial_gain=initial_gain,theta=theta)\n",
    "rlagent.fit()\n",
    "print('initial gain')\n",
    "print(initial_gain)\n",
    "print('final gain')\n",
    "print(rlagent.final_gain)\n",
    "print('optimal gain')\n",
    "print(U_opt)"
   ]
  },
  {
   "cell_type": "code",
   "execution_count": 14,
   "metadata": {},
   "outputs": [
    {
     "name": "stdout",
     "output_type": "stream",
     "text": [
      "initial gain\n",
      "[[-0.76997943 -0.6543132  -0.78870169]\n",
      " [ 0.60899261  0.17455866 -1.00076236]]\n",
      "final gain of RL\n",
      "[[-0.51631205 -0.63159821 -0.54062718]\n",
      " [-0.20454295 -0.39843372 -0.64846643]]\n",
      "final gain of DP\n",
      "[[-0.46167044 -0.53511038 -0.5279651 ]\n",
      " [-0.22785121 -0.40611603 -0.65336881]]\n",
      "optimal gain\n",
      "[[-0.46167044 -0.53511038 -0.5279651 ]\n",
      " [-0.22785121 -0.40611603 -0.65336881]]\n"
     ]
    }
   ],
   "source": [
    "#difference between RL and DP\n",
    "n,p = B.shape\n",
    "n_th = int((n+p)*(n+p+1)/2)\n",
    "E = np.eye(n)\n",
    "F = np.eye(p)\n",
    "U_opt = - lqr(A,B,E,F)[1]\n",
    "\n",
    "initial_gain, theta = initialGain(A,B,E,F)\n",
    "rlagent = RlAgent(A,B,E,F,initial_gain=initial_gain,theta=theta)\n",
    "rlagent.fit()\n",
    "dpagent = DpAgent(A,B,E,F,initial_gain=initial_gain)\n",
    "dpagent.fit(iter_Gain=50)\n",
    "print('initial gain')\n",
    "print(initial_gain)\n",
    "print('final gain of RL')\n",
    "print(rlagent.final_gain)\n",
    "print('final gain of DP')\n",
    "print(dpagent.final_gain)\n",
    "print('optimal gain')\n",
    "print(U_opt)"
   ]
  },
  {
   "cell_type": "code",
   "execution_count": 15,
   "metadata": {},
   "outputs": [
    {
     "data": {
      "image/png": "[encoded data removed]",
      "text/plain": [
       "<Figure size 432x288 with 1 Axes>"
      ]
     },
     "metadata": {
      "needs_background": "light"
     },
     "output_type": "display_data"
    }
   ],
   "source": [
    "dlist = []\n",
    "for i in range(len(rlagent.U_hist)):\n",
    "    rlU = rlagent.U_hist[i]\n",
    "    dpU = dpagent.U_hist[i]\n",
    "    dif = np.linalg.norm(rlU-dpU, ord='fro')\n",
    "    dlist.append(dif)\n",
    "plt.plot(dlist)\n",
    "plt.show()"
   ]
  },
  {
   "cell_type": "code",
   "execution_count": 18,
   "metadata": {},
   "outputs": [
    {
     "data": {
      "image/png": "[encoded data removed]",
      "text/plain": [
       "<Figure size 432x288 with 1 Axes>"
      ]
     },
     "metadata": {
      "needs_background": "light"
     },
     "output_type": "display_data"
    }
   ],
   "source": [
    "plt.plot(rlagent.Uerr_hist)\n",
    "plt.plot(dpagent.Uerr_hist)\n",
    "plt.show()"
   ]
  },
  {
   "cell_type": "code",
   "execution_count": null,
   "metadata": {},
   "outputs": [],
   "source": []
  }
 ],
 "metadata": {
  "kernelspec": {
   "display_name": "Python 3",
   "language": "python",
   "name": "python3"
  },
  "language_info": {
   "codemirror_mode": {
    "name": "ipython",
    "version": 3
   },
   "file_extension": ".py",
   "mimetype": "text/x-python",
   "name": "python",
   "nbconvert_exporter": "python",
   "pygments_lexer": "ipython3",
   "version": "3.7.3"
  }
 },
 "nbformat": 4,
 "nbformat_minor": 2
}
