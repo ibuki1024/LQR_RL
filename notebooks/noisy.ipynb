{
 "cells": [
  {
   "cell_type": "code",
   "execution_count": 1,
   "metadata": {},
   "outputs": [],
   "source": [
    "import sys\n",
    "sys.path.append('../modules')\n",
    "\n",
    "import numpy as np\n",
    "from scipy import linalg\n",
    "import matplotlib.pyplot as plt\n",
    "import control_theory as ct\n",
    "from lqr_rl import *\n",
    "%matplotlib inline"
   ]
  },
  {
   "cell_type": "code",
   "execution_count": 2,
   "metadata": {},
   "outputs": [
    {
     "name": "stdout",
     "output_type": "stream",
     "text": [
      "2\n"
     ]
    }
   ],
   "source": [
    "#system formulation\n",
    "gamma = 1\n",
    "A = np.array([[1.8186, 1.9108, 0, 0],[-2.0854, -2.2186, 0, 0],[1.0, 1.0, -1.3016, -1.6357],[2.0, 0, 0.7364, 1.6016]])\n",
    "B = np.array([[0],[0],[1],[-1]])\n",
    "ctrb = ct.ctrb(A,B)\n",
    "print(ct.rank(ctrb))"
   ]
  },
  {
   "cell_type": "code",
   "execution_count": 15,
   "metadata": {},
   "outputs": [],
   "source": [
    "#Learning\n",
    "E = np.eye(4)\n",
    "F = np.eye(1)\n",
    "agent = RlAgent(A,B,E,F)\n",
    "agent.fit(iter_Gain=50,s_n=100,p_n=1,random=True)"
   ]
  },
  {
   "cell_type": "code",
   "execution_count": 16,
   "metadata": {},
   "outputs": [
    {
     "name": "stdout",
     "output_type": "stream",
     "text": [
      "[[1.7881477  0.9638309  0.70900275 1.19420642]] [[1.76509243 0.90009461 0.70468942 1.19469488]]\n"
     ]
    },
    {
     "data": {
      "image/png": "[encoded data removed]",
      "text/plain": [
       "<Figure size 432x288 with 1 Axes>"
      ]
     },
     "metadata": {
      "needs_background": "light"
     },
     "output_type": "display_data"
    }
   ],
   "source": [
    "print(agent.final_gain, - lqr(A,B,E,F)[1])\n",
    "plt.plot(agent.Uerr_hist)\n",
    "plt.show()"
   ]
  },
  {
   "cell_type": "code",
   "execution_count": null,
   "metadata": {},
   "outputs": [],
   "source": []
  },
  {
   "cell_type": "code",
   "execution_count": null,
   "metadata": {},
   "outputs": [],
   "source": []
  }
 ],
 "metadata": {
  "kernelspec": {
   "display_name": "Python 3",
   "language": "python",
   "name": "python3"
  },
  "language_info": {
   "codemirror_mode": {
    "name": "ipython",
    "version": 3
   },
   "file_extension": ".py",
   "mimetype": "text/x-python",
   "name": "python",
   "nbconvert_exporter": "python",
   "pygments_lexer": "ipython3",
   "version": "3.7.3"
  }
 },
 "nbformat": 4,
 "nbformat_minor": 2
}
